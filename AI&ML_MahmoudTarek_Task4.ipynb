{
 "cells": [
  {
   "cell_type": "markdown",
   "id": "a75fcc43-8ddf-4cf3-b71d-1dd068728b94",
   "metadata": {},
   "source": [
    "# 1. Imports"
   ]
  },
  {
   "cell_type": "code",
   "execution_count": 1,
   "id": "8fc06add-b5f4-46ff-b684-a1c89b2f09eb",
   "metadata": {},
   "outputs": [],
   "source": [
    "# Data handling\n",
    "import pandas as pd\n",
    "import numpy as np\n",
    "\n",
    "# Preprocessing\n",
    "from sklearn.preprocessing import MinMaxScaler\n",
    "import seaborn as sns\n",
    "import matplotlib.pyplot as plt\n",
    "\n",
    "# Model selection and cross-validation\n",
    "from sklearn.model_selection import train_test_split, StratifiedKFold\n",
    "from sklearn.model_selection import GridSearchCV\n",
    "\n",
    "# Metrics\n",
    "from sklearn.metrics import accuracy_score, precision_score, recall_score, f1_score, confusion_matrix\n",
    "\n",
    "# Classifiers\n",
    "from sklearn.svm import SVC\n",
    "from sklearn.tree import DecisionTreeClassifier\n",
    "from sklearn.ensemble import RandomForestClassifier\n",
    "from sklearn.neighbors import KNeighborsClassifier\n",
    "from sklearn.linear_model import LogisticRegression\n",
    "from xgboost import XGBClassifier\n"
   ]
  },
  {
   "cell_type": "markdown",
   "id": "9ce46955-4edb-4470-bbc8-b7862823679c",
   "metadata": {},
   "source": [
    "## Import Dataset"
   ]
  },
  {
   "cell_type": "code",
   "execution_count": 2,
   "id": "d4da0bdd-e27d-4ab4-a440-7db9805b07b8",
   "metadata": {},
   "outputs": [
    {
     "name": "stderr",
     "output_type": "stream",
     "text": [
      "C:\\Users\\Mahmoud\\AppData\\Roaming\\Python\\Python312\\site-packages\\tqdm\\auto.py:21: TqdmWarning: IProgress not found. Please update jupyter and ipywidgets. See https://ipywidgets.readthedocs.io/en/stable/user_install.html\n",
      "  from .autonotebook import tqdm as notebook_tqdm\n"
     ]
    }
   ],
   "source": [
    "df = pd.read_csv(\"hf://datasets/weeebdev/diabetes/diabetes.csv\")"
   ]
  },
  {
   "cell_type": "markdown",
   "id": "b8ebae39-8f54-49f1-9bed-5c431b2538dd",
   "metadata": {},
   "source": [
    "# 2. Understanding the Data"
   ]
  },
  {
   "cell_type": "code",
   "execution_count": 3,
   "id": "56c39f0f-ccf8-4c3c-a021-1af4a79def76",
   "metadata": {},
   "outputs": [
    {
     "data": {
      "text/html": [
       "<div>\n",
       "<style scoped>\n",
       "    .dataframe tbody tr th:only-of-type {\n",
       "        vertical-align: middle;\n",
       "    }\n",
       "\n",
       "    .dataframe tbody tr th {\n",
       "        vertical-align: top;\n",
       "    }\n",
       "\n",
       "    .dataframe thead th {\n",
       "        text-align: right;\n",
       "    }\n",
       "</style>\n",
       "<table border=\"1\" class=\"dataframe\">\n",
       "  <thead>\n",
       "    <tr style=\"text-align: right;\">\n",
       "      <th></th>\n",
       "      <th>Number of times pregnant</th>\n",
       "      <th>Plasma glucose concentration a 2 hours in an oral glucose tolerance test</th>\n",
       "      <th>Diastolic blood pressure (mm Hg)</th>\n",
       "      <th>Triceps skin fold thickness (mm)</th>\n",
       "      <th>2-Hour serum insulin (mu U/ml)</th>\n",
       "      <th>Body mass index (weight in kg/(height in m)^2)</th>\n",
       "      <th>Diabetes pedigree function</th>\n",
       "      <th>Age (years)</th>\n",
       "      <th>Class variable</th>\n",
       "    </tr>\n",
       "  </thead>\n",
       "  <tbody>\n",
       "    <tr>\n",
       "      <th>0</th>\n",
       "      <td>6</td>\n",
       "      <td>148</td>\n",
       "      <td>72</td>\n",
       "      <td>35</td>\n",
       "      <td>0</td>\n",
       "      <td>33.6</td>\n",
       "      <td>0.627</td>\n",
       "      <td>50</td>\n",
       "      <td>1</td>\n",
       "    </tr>\n",
       "    <tr>\n",
       "      <th>1</th>\n",
       "      <td>1</td>\n",
       "      <td>85</td>\n",
       "      <td>66</td>\n",
       "      <td>29</td>\n",
       "      <td>0</td>\n",
       "      <td>26.6</td>\n",
       "      <td>0.351</td>\n",
       "      <td>31</td>\n",
       "      <td>0</td>\n",
       "    </tr>\n",
       "    <tr>\n",
       "      <th>2</th>\n",
       "      <td>8</td>\n",
       "      <td>183</td>\n",
       "      <td>64</td>\n",
       "      <td>0</td>\n",
       "      <td>0</td>\n",
       "      <td>23.3</td>\n",
       "      <td>0.672</td>\n",
       "      <td>32</td>\n",
       "      <td>1</td>\n",
       "    </tr>\n",
       "    <tr>\n",
       "      <th>3</th>\n",
       "      <td>1</td>\n",
       "      <td>89</td>\n",
       "      <td>66</td>\n",
       "      <td>23</td>\n",
       "      <td>94</td>\n",
       "      <td>28.1</td>\n",
       "      <td>0.167</td>\n",
       "      <td>21</td>\n",
       "      <td>0</td>\n",
       "    </tr>\n",
       "    <tr>\n",
       "      <th>4</th>\n",
       "      <td>0</td>\n",
       "      <td>137</td>\n",
       "      <td>40</td>\n",
       "      <td>35</td>\n",
       "      <td>168</td>\n",
       "      <td>43.1</td>\n",
       "      <td>2.288</td>\n",
       "      <td>33</td>\n",
       "      <td>1</td>\n",
       "    </tr>\n",
       "    <tr>\n",
       "      <th>...</th>\n",
       "      <td>...</td>\n",
       "      <td>...</td>\n",
       "      <td>...</td>\n",
       "      <td>...</td>\n",
       "      <td>...</td>\n",
       "      <td>...</td>\n",
       "      <td>...</td>\n",
       "      <td>...</td>\n",
       "      <td>...</td>\n",
       "    </tr>\n",
       "    <tr>\n",
       "      <th>763</th>\n",
       "      <td>10</td>\n",
       "      <td>101</td>\n",
       "      <td>76</td>\n",
       "      <td>48</td>\n",
       "      <td>180</td>\n",
       "      <td>32.9</td>\n",
       "      <td>0.171</td>\n",
       "      <td>63</td>\n",
       "      <td>0</td>\n",
       "    </tr>\n",
       "    <tr>\n",
       "      <th>764</th>\n",
       "      <td>2</td>\n",
       "      <td>122</td>\n",
       "      <td>70</td>\n",
       "      <td>27</td>\n",
       "      <td>0</td>\n",
       "      <td>36.8</td>\n",
       "      <td>0.340</td>\n",
       "      <td>27</td>\n",
       "      <td>0</td>\n",
       "    </tr>\n",
       "    <tr>\n",
       "      <th>765</th>\n",
       "      <td>5</td>\n",
       "      <td>121</td>\n",
       "      <td>72</td>\n",
       "      <td>23</td>\n",
       "      <td>112</td>\n",
       "      <td>26.2</td>\n",
       "      <td>0.245</td>\n",
       "      <td>30</td>\n",
       "      <td>0</td>\n",
       "    </tr>\n",
       "    <tr>\n",
       "      <th>766</th>\n",
       "      <td>1</td>\n",
       "      <td>126</td>\n",
       "      <td>60</td>\n",
       "      <td>0</td>\n",
       "      <td>0</td>\n",
       "      <td>30.1</td>\n",
       "      <td>0.349</td>\n",
       "      <td>47</td>\n",
       "      <td>1</td>\n",
       "    </tr>\n",
       "    <tr>\n",
       "      <th>767</th>\n",
       "      <td>1</td>\n",
       "      <td>93</td>\n",
       "      <td>70</td>\n",
       "      <td>31</td>\n",
       "      <td>0</td>\n",
       "      <td>30.4</td>\n",
       "      <td>0.315</td>\n",
       "      <td>23</td>\n",
       "      <td>0</td>\n",
       "    </tr>\n",
       "  </tbody>\n",
       "</table>\n",
       "<p>768 rows × 9 columns</p>\n",
       "</div>"
      ],
      "text/plain": [
       "     Number of times pregnant  \\\n",
       "0                           6   \n",
       "1                           1   \n",
       "2                           8   \n",
       "3                           1   \n",
       "4                           0   \n",
       "..                        ...   \n",
       "763                        10   \n",
       "764                         2   \n",
       "765                         5   \n",
       "766                         1   \n",
       "767                         1   \n",
       "\n",
       "     Plasma glucose concentration a 2 hours in an oral glucose tolerance test  \\\n",
       "0                                                  148                          \n",
       "1                                                   85                          \n",
       "2                                                  183                          \n",
       "3                                                   89                          \n",
       "4                                                  137                          \n",
       "..                                                 ...                          \n",
       "763                                                101                          \n",
       "764                                                122                          \n",
       "765                                                121                          \n",
       "766                                                126                          \n",
       "767                                                 93                          \n",
       "\n",
       "     Diastolic blood pressure (mm Hg)  Triceps skin fold thickness (mm)  \\\n",
       "0                                  72                                35   \n",
       "1                                  66                                29   \n",
       "2                                  64                                 0   \n",
       "3                                  66                                23   \n",
       "4                                  40                                35   \n",
       "..                                ...                               ...   \n",
       "763                                76                                48   \n",
       "764                                70                                27   \n",
       "765                                72                                23   \n",
       "766                                60                                 0   \n",
       "767                                70                                31   \n",
       "\n",
       "     2-Hour serum insulin (mu U/ml)  \\\n",
       "0                                 0   \n",
       "1                                 0   \n",
       "2                                 0   \n",
       "3                                94   \n",
       "4                               168   \n",
       "..                              ...   \n",
       "763                             180   \n",
       "764                               0   \n",
       "765                             112   \n",
       "766                               0   \n",
       "767                               0   \n",
       "\n",
       "     Body mass index (weight in kg/(height in m)^2)  \\\n",
       "0                                              33.6   \n",
       "1                                              26.6   \n",
       "2                                              23.3   \n",
       "3                                              28.1   \n",
       "4                                              43.1   \n",
       "..                                              ...   \n",
       "763                                            32.9   \n",
       "764                                            36.8   \n",
       "765                                            26.2   \n",
       "766                                            30.1   \n",
       "767                                            30.4   \n",
       "\n",
       "     Diabetes pedigree function  Age (years)  Class variable  \n",
       "0                         0.627           50               1  \n",
       "1                         0.351           31               0  \n",
       "2                         0.672           32               1  \n",
       "3                         0.167           21               0  \n",
       "4                         2.288           33               1  \n",
       "..                          ...          ...             ...  \n",
       "763                       0.171           63               0  \n",
       "764                       0.340           27               0  \n",
       "765                       0.245           30               0  \n",
       "766                       0.349           47               1  \n",
       "767                       0.315           23               0  \n",
       "\n",
       "[768 rows x 9 columns]"
      ]
     },
     "execution_count": 3,
     "metadata": {},
     "output_type": "execute_result"
    }
   ],
   "source": [
    "df"
   ]
  },
  {
   "cell_type": "code",
   "execution_count": 4,
   "id": "1aa9aa01-a91c-483e-b326-5944bca926ab",
   "metadata": {},
   "outputs": [
    {
     "name": "stdout",
     "output_type": "stream",
     "text": [
      "<class 'pandas.core.frame.DataFrame'>\n",
      "RangeIndex: 768 entries, 0 to 767\n",
      "Data columns (total 9 columns):\n",
      " #   Column                                                                    Non-Null Count  Dtype  \n",
      "---  ------                                                                    --------------  -----  \n",
      " 0   Number of times pregnant                                                  768 non-null    int64  \n",
      " 1   Plasma glucose concentration a 2 hours in an oral glucose tolerance test  768 non-null    int64  \n",
      " 2   Diastolic blood pressure (mm Hg)                                          768 non-null    int64  \n",
      " 3   Triceps skin fold thickness (mm)                                          768 non-null    int64  \n",
      " 4   2-Hour serum insulin (mu U/ml)                                            768 non-null    int64  \n",
      " 5   Body mass index (weight in kg/(height in m)^2)                            768 non-null    float64\n",
      " 6   Diabetes pedigree function                                                768 non-null    float64\n",
      " 7   Age (years)                                                               768 non-null    int64  \n",
      " 8   Class variable                                                            768 non-null    int64  \n",
      "dtypes: float64(2), int64(7)\n",
      "memory usage: 54.1 KB\n"
     ]
    }
   ],
   "source": [
    "df.info()"
   ]
  },
  {
   "cell_type": "code",
   "execution_count": 5,
   "id": "868fb1ce-f86f-4b87-8487-a9acd90a7d4b",
   "metadata": {},
   "outputs": [
    {
     "data": {
      "text/plain": [
       "Number of times pregnant                                                    0\n",
       "Plasma glucose concentration a 2 hours in an oral glucose tolerance test    0\n",
       "Diastolic blood pressure (mm Hg)                                            0\n",
       "Triceps skin fold thickness (mm)                                            0\n",
       "2-Hour serum insulin (mu U/ml)                                              0\n",
       "Body mass index (weight in kg/(height in m)^2)                              0\n",
       "Diabetes pedigree function                                                  0\n",
       "Age (years)                                                                 0\n",
       "Class variable                                                              0\n",
       "dtype: int64"
      ]
     },
     "execution_count": 5,
     "metadata": {},
     "output_type": "execute_result"
    }
   ],
   "source": [
    "df.isna().sum()"
   ]
  },
  {
   "cell_type": "code",
   "execution_count": 6,
   "id": "182da20b-46e4-4f3e-bd8a-d1f33f4a9ed9",
   "metadata": {},
   "outputs": [
    {
     "data": {
      "text/html": [
       "<div>\n",
       "<style scoped>\n",
       "    .dataframe tbody tr th:only-of-type {\n",
       "        vertical-align: middle;\n",
       "    }\n",
       "\n",
       "    .dataframe tbody tr th {\n",
       "        vertical-align: top;\n",
       "    }\n",
       "\n",
       "    .dataframe thead th {\n",
       "        text-align: right;\n",
       "    }\n",
       "</style>\n",
       "<table border=\"1\" class=\"dataframe\">\n",
       "  <thead>\n",
       "    <tr style=\"text-align: right;\">\n",
       "      <th></th>\n",
       "      <th>Number of times pregnant</th>\n",
       "      <th>Plasma glucose concentration a 2 hours in an oral glucose tolerance test</th>\n",
       "      <th>Diastolic blood pressure (mm Hg)</th>\n",
       "      <th>Triceps skin fold thickness (mm)</th>\n",
       "      <th>2-Hour serum insulin (mu U/ml)</th>\n",
       "      <th>Body mass index (weight in kg/(height in m)^2)</th>\n",
       "      <th>Diabetes pedigree function</th>\n",
       "      <th>Age (years)</th>\n",
       "      <th>Class variable</th>\n",
       "    </tr>\n",
       "  </thead>\n",
       "  <tbody>\n",
       "    <tr>\n",
       "      <th>count</th>\n",
       "      <td>768.000000</td>\n",
       "      <td>768.000000</td>\n",
       "      <td>768.000000</td>\n",
       "      <td>768.000000</td>\n",
       "      <td>768.000000</td>\n",
       "      <td>768.000000</td>\n",
       "      <td>768.000000</td>\n",
       "      <td>768.000000</td>\n",
       "      <td>768.000000</td>\n",
       "    </tr>\n",
       "    <tr>\n",
       "      <th>mean</th>\n",
       "      <td>3.845052</td>\n",
       "      <td>120.894531</td>\n",
       "      <td>69.105469</td>\n",
       "      <td>20.536458</td>\n",
       "      <td>79.799479</td>\n",
       "      <td>31.992578</td>\n",
       "      <td>0.471876</td>\n",
       "      <td>33.240885</td>\n",
       "      <td>0.348958</td>\n",
       "    </tr>\n",
       "    <tr>\n",
       "      <th>std</th>\n",
       "      <td>3.369578</td>\n",
       "      <td>31.972618</td>\n",
       "      <td>19.355807</td>\n",
       "      <td>15.952218</td>\n",
       "      <td>115.244002</td>\n",
       "      <td>7.884160</td>\n",
       "      <td>0.331329</td>\n",
       "      <td>11.760232</td>\n",
       "      <td>0.476951</td>\n",
       "    </tr>\n",
       "    <tr>\n",
       "      <th>min</th>\n",
       "      <td>0.000000</td>\n",
       "      <td>0.000000</td>\n",
       "      <td>0.000000</td>\n",
       "      <td>0.000000</td>\n",
       "      <td>0.000000</td>\n",
       "      <td>0.000000</td>\n",
       "      <td>0.078000</td>\n",
       "      <td>21.000000</td>\n",
       "      <td>0.000000</td>\n",
       "    </tr>\n",
       "    <tr>\n",
       "      <th>25%</th>\n",
       "      <td>1.000000</td>\n",
       "      <td>99.000000</td>\n",
       "      <td>62.000000</td>\n",
       "      <td>0.000000</td>\n",
       "      <td>0.000000</td>\n",
       "      <td>27.300000</td>\n",
       "      <td>0.243750</td>\n",
       "      <td>24.000000</td>\n",
       "      <td>0.000000</td>\n",
       "    </tr>\n",
       "    <tr>\n",
       "      <th>50%</th>\n",
       "      <td>3.000000</td>\n",
       "      <td>117.000000</td>\n",
       "      <td>72.000000</td>\n",
       "      <td>23.000000</td>\n",
       "      <td>30.500000</td>\n",
       "      <td>32.000000</td>\n",
       "      <td>0.372500</td>\n",
       "      <td>29.000000</td>\n",
       "      <td>0.000000</td>\n",
       "    </tr>\n",
       "    <tr>\n",
       "      <th>75%</th>\n",
       "      <td>6.000000</td>\n",
       "      <td>140.250000</td>\n",
       "      <td>80.000000</td>\n",
       "      <td>32.000000</td>\n",
       "      <td>127.250000</td>\n",
       "      <td>36.600000</td>\n",
       "      <td>0.626250</td>\n",
       "      <td>41.000000</td>\n",
       "      <td>1.000000</td>\n",
       "    </tr>\n",
       "    <tr>\n",
       "      <th>max</th>\n",
       "      <td>17.000000</td>\n",
       "      <td>199.000000</td>\n",
       "      <td>122.000000</td>\n",
       "      <td>99.000000</td>\n",
       "      <td>846.000000</td>\n",
       "      <td>67.100000</td>\n",
       "      <td>2.420000</td>\n",
       "      <td>81.000000</td>\n",
       "      <td>1.000000</td>\n",
       "    </tr>\n",
       "  </tbody>\n",
       "</table>\n",
       "</div>"
      ],
      "text/plain": [
       "       Number of times pregnant  \\\n",
       "count                768.000000   \n",
       "mean                   3.845052   \n",
       "std                    3.369578   \n",
       "min                    0.000000   \n",
       "25%                    1.000000   \n",
       "50%                    3.000000   \n",
       "75%                    6.000000   \n",
       "max                   17.000000   \n",
       "\n",
       "       Plasma glucose concentration a 2 hours in an oral glucose tolerance test  \\\n",
       "count                                         768.000000                          \n",
       "mean                                          120.894531                          \n",
       "std                                            31.972618                          \n",
       "min                                             0.000000                          \n",
       "25%                                            99.000000                          \n",
       "50%                                           117.000000                          \n",
       "75%                                           140.250000                          \n",
       "max                                           199.000000                          \n",
       "\n",
       "       Diastolic blood pressure (mm Hg)  Triceps skin fold thickness (mm)  \\\n",
       "count                        768.000000                        768.000000   \n",
       "mean                          69.105469                         20.536458   \n",
       "std                           19.355807                         15.952218   \n",
       "min                            0.000000                          0.000000   \n",
       "25%                           62.000000                          0.000000   \n",
       "50%                           72.000000                         23.000000   \n",
       "75%                           80.000000                         32.000000   \n",
       "max                          122.000000                         99.000000   \n",
       "\n",
       "       2-Hour serum insulin (mu U/ml)  \\\n",
       "count                      768.000000   \n",
       "mean                        79.799479   \n",
       "std                        115.244002   \n",
       "min                          0.000000   \n",
       "25%                          0.000000   \n",
       "50%                         30.500000   \n",
       "75%                        127.250000   \n",
       "max                        846.000000   \n",
       "\n",
       "       Body mass index (weight in kg/(height in m)^2)  \\\n",
       "count                                      768.000000   \n",
       "mean                                        31.992578   \n",
       "std                                          7.884160   \n",
       "min                                          0.000000   \n",
       "25%                                         27.300000   \n",
       "50%                                         32.000000   \n",
       "75%                                         36.600000   \n",
       "max                                         67.100000   \n",
       "\n",
       "       Diabetes pedigree function  Age (years)  Class variable  \n",
       "count                  768.000000   768.000000      768.000000  \n",
       "mean                     0.471876    33.240885        0.348958  \n",
       "std                      0.331329    11.760232        0.476951  \n",
       "min                      0.078000    21.000000        0.000000  \n",
       "25%                      0.243750    24.000000        0.000000  \n",
       "50%                      0.372500    29.000000        0.000000  \n",
       "75%                      0.626250    41.000000        1.000000  \n",
       "max                      2.420000    81.000000        1.000000  "
      ]
     },
     "execution_count": 6,
     "metadata": {},
     "output_type": "execute_result"
    }
   ],
   "source": [
    "df.describe()"
   ]
  },
  {
   "cell_type": "markdown",
   "id": "90c935a4-1925-4fde-bc55-5a2a5081a5ff",
   "metadata": {},
   "source": [
    "### Handle rows with missing data\n",
    "\n",
    "- This dataset contains no rows with missing values, but the deletion logic below is in place in case a future dataset"
   ]
  },
  {
   "cell_type": "code",
   "execution_count": 7,
   "id": "04149600-8a94-495b-bf94-35e18eb9fad9",
   "metadata": {},
   "outputs": [],
   "source": [
    "cols = df.select_dtypes(include=[\"int64\", \"float64\"]).columns"
   ]
  },
  {
   "cell_type": "code",
   "execution_count": 8,
   "id": "956605be-af0f-4cc2-9337-f91f8f85d632",
   "metadata": {},
   "outputs": [],
   "source": [
    "for col in cols:\n",
    "    df[col] = pd.to_numeric(df[col], errors=\"coerce\")\n",
    "\n",
    "df.dropna(inplace=True)"
   ]
  },
  {
   "cell_type": "code",
   "execution_count": 9,
   "id": "a9d35d0b-54b8-40f3-81a8-27d8295a9371",
   "metadata": {},
   "outputs": [
    {
     "data": {
      "text/plain": [
       "Number of times pregnant                                                    0\n",
       "Plasma glucose concentration a 2 hours in an oral glucose tolerance test    0\n",
       "Diastolic blood pressure (mm Hg)                                            0\n",
       "Triceps skin fold thickness (mm)                                            0\n",
       "2-Hour serum insulin (mu U/ml)                                              0\n",
       "Body mass index (weight in kg/(height in m)^2)                              0\n",
       "Diabetes pedigree function                                                  0\n",
       "Age (years)                                                                 0\n",
       "Class variable                                                              0\n",
       "dtype: int64"
      ]
     },
     "execution_count": 9,
     "metadata": {},
     "output_type": "execute_result"
    }
   ],
   "source": [
    "df.isna().sum()"
   ]
  },
  {
   "cell_type": "markdown",
   "id": "77488c6f-fca5-4c3b-84de-0f392c6688c7",
   "metadata": {},
   "source": [
    "## Encode\n",
    "\n",
    "Added a human-readable 'Class label' column for easier interpretation, while keeping the original numeric 'Class variable' for modeling."
   ]
  },
  {
   "cell_type": "code",
   "execution_count": 10,
   "id": "c6da1292-d909-4032-9b94-73c96e256817",
   "metadata": {},
   "outputs": [],
   "source": [
    "# Map numeric target values to human-readable labels\n",
    "df[\"Class label\"] = df[\"Class variable\"].map({\n",
    "    0: \"Non-Diabetic\",\n",
    "    1: \"Diabetic\"\n",
    "})"
   ]
  },
  {
   "cell_type": "code",
   "execution_count": 11,
   "id": "f0d00a29-5b8e-4f64-9440-7fe5765a11ed",
   "metadata": {},
   "outputs": [
    {
     "data": {
      "text/html": [
       "<div>\n",
       "<style scoped>\n",
       "    .dataframe tbody tr th:only-of-type {\n",
       "        vertical-align: middle;\n",
       "    }\n",
       "\n",
       "    .dataframe tbody tr th {\n",
       "        vertical-align: top;\n",
       "    }\n",
       "\n",
       "    .dataframe thead th {\n",
       "        text-align: right;\n",
       "    }\n",
       "</style>\n",
       "<table border=\"1\" class=\"dataframe\">\n",
       "  <thead>\n",
       "    <tr style=\"text-align: right;\">\n",
       "      <th></th>\n",
       "      <th>Number of times pregnant</th>\n",
       "      <th>Plasma glucose concentration a 2 hours in an oral glucose tolerance test</th>\n",
       "      <th>Diastolic blood pressure (mm Hg)</th>\n",
       "      <th>Triceps skin fold thickness (mm)</th>\n",
       "      <th>2-Hour serum insulin (mu U/ml)</th>\n",
       "      <th>Body mass index (weight in kg/(height in m)^2)</th>\n",
       "      <th>Diabetes pedigree function</th>\n",
       "      <th>Age (years)</th>\n",
       "      <th>Class variable</th>\n",
       "      <th>Class label</th>\n",
       "    </tr>\n",
       "  </thead>\n",
       "  <tbody>\n",
       "    <tr>\n",
       "      <th>0</th>\n",
       "      <td>6</td>\n",
       "      <td>148</td>\n",
       "      <td>72</td>\n",
       "      <td>35</td>\n",
       "      <td>0</td>\n",
       "      <td>33.6</td>\n",
       "      <td>0.627</td>\n",
       "      <td>50</td>\n",
       "      <td>1</td>\n",
       "      <td>Diabetic</td>\n",
       "    </tr>\n",
       "    <tr>\n",
       "      <th>1</th>\n",
       "      <td>1</td>\n",
       "      <td>85</td>\n",
       "      <td>66</td>\n",
       "      <td>29</td>\n",
       "      <td>0</td>\n",
       "      <td>26.6</td>\n",
       "      <td>0.351</td>\n",
       "      <td>31</td>\n",
       "      <td>0</td>\n",
       "      <td>Non-Diabetic</td>\n",
       "    </tr>\n",
       "    <tr>\n",
       "      <th>2</th>\n",
       "      <td>8</td>\n",
       "      <td>183</td>\n",
       "      <td>64</td>\n",
       "      <td>0</td>\n",
       "      <td>0</td>\n",
       "      <td>23.3</td>\n",
       "      <td>0.672</td>\n",
       "      <td>32</td>\n",
       "      <td>1</td>\n",
       "      <td>Diabetic</td>\n",
       "    </tr>\n",
       "    <tr>\n",
       "      <th>3</th>\n",
       "      <td>1</td>\n",
       "      <td>89</td>\n",
       "      <td>66</td>\n",
       "      <td>23</td>\n",
       "      <td>94</td>\n",
       "      <td>28.1</td>\n",
       "      <td>0.167</td>\n",
       "      <td>21</td>\n",
       "      <td>0</td>\n",
       "      <td>Non-Diabetic</td>\n",
       "    </tr>\n",
       "    <tr>\n",
       "      <th>4</th>\n",
       "      <td>0</td>\n",
       "      <td>137</td>\n",
       "      <td>40</td>\n",
       "      <td>35</td>\n",
       "      <td>168</td>\n",
       "      <td>43.1</td>\n",
       "      <td>2.288</td>\n",
       "      <td>33</td>\n",
       "      <td>1</td>\n",
       "      <td>Diabetic</td>\n",
       "    </tr>\n",
       "  </tbody>\n",
       "</table>\n",
       "</div>"
      ],
      "text/plain": [
       "   Number of times pregnant  \\\n",
       "0                         6   \n",
       "1                         1   \n",
       "2                         8   \n",
       "3                         1   \n",
       "4                         0   \n",
       "\n",
       "   Plasma glucose concentration a 2 hours in an oral glucose tolerance test  \\\n",
       "0                                                148                          \n",
       "1                                                 85                          \n",
       "2                                                183                          \n",
       "3                                                 89                          \n",
       "4                                                137                          \n",
       "\n",
       "   Diastolic blood pressure (mm Hg)  Triceps skin fold thickness (mm)  \\\n",
       "0                                72                                35   \n",
       "1                                66                                29   \n",
       "2                                64                                 0   \n",
       "3                                66                                23   \n",
       "4                                40                                35   \n",
       "\n",
       "   2-Hour serum insulin (mu U/ml)  \\\n",
       "0                               0   \n",
       "1                               0   \n",
       "2                               0   \n",
       "3                              94   \n",
       "4                             168   \n",
       "\n",
       "   Body mass index (weight in kg/(height in m)^2)  Diabetes pedigree function  \\\n",
       "0                                            33.6                       0.627   \n",
       "1                                            26.6                       0.351   \n",
       "2                                            23.3                       0.672   \n",
       "3                                            28.1                       0.167   \n",
       "4                                            43.1                       2.288   \n",
       "\n",
       "   Age (years)  Class variable   Class label  \n",
       "0           50               1      Diabetic  \n",
       "1           31               0  Non-Diabetic  \n",
       "2           32               1      Diabetic  \n",
       "3           21               0  Non-Diabetic  \n",
       "4           33               1      Diabetic  "
      ]
     },
     "execution_count": 11,
     "metadata": {},
     "output_type": "execute_result"
    }
   ],
   "source": [
    "df.head(5)"
   ]
  },
  {
   "cell_type": "markdown",
   "id": "59d29d8d-61c8-4562-9d7e-78588bd7391c",
   "metadata": {},
   "source": [
    "## Heat Map Visulaization"
   ]
  },
  {
   "cell_type": "code",
   "execution_count": 12,
   "id": "66089eaa-4151-4c09-852a-32c42ed63c9f",
   "metadata": {},
   "outputs": [
    {
     "data": {
      "image/png": "[encoded data removed]",
      "text/plain": [
       "<Figure size 1000x1000 with 2 Axes>"
      ]
     },
     "metadata": {},
     "output_type": "display_data"
    }
   ],
   "source": [
    "numeric_df = df.select_dtypes(include=['number'])\n",
    "\n",
    "corr = numeric_df.corr()\n",
    "\n",
    "fig, ax = plt.subplots(figsize=(10, 10))\n",
    "sns.heatmap(corr, annot=True, fmt=\".2f\", cmap=\"coolwarm\", ax=ax)\n",
    "plt.title(\"Correlation Heatmap of Numeric Features\")\n",
    "plt.show()"
   ]
  },
  {
   "cell_type": "markdown",
   "id": "a33e5aee-e3c0-46d7-a5d8-cde4afc90ff5",
   "metadata": {},
   "source": [
    "# 3. Splitting and Normalization"
   ]
  },
  {
   "cell_type": "code",
   "execution_count": 13,
   "id": "df692b25-aaad-4bd2-9e3d-821ecbbfa2d5",
   "metadata": {},
   "outputs": [],
   "source": [
    "features = df.drop(columns=[\"Class variable\", \"Class label\"])\n",
    "numeric_cols = features.select_dtypes(include=[\"number\"]).columns"
   ]
  },
  {
   "cell_type": "markdown",
   "id": "076e048b-5ef4-4867-85a0-e8d80d2303c9",
   "metadata": {},
   "source": [
    "## Separate features and target"
   ]
  },
  {
   "cell_type": "code",
   "execution_count": 14,
   "id": "6ec9f8fe-2cdf-4f49-b223-a80fbb79b38b",
   "metadata": {},
   "outputs": [],
   "source": [
    "X = df.drop(columns=[\"Class variable\", \"Class label\"])\n",
    "y = df[\"Class variable\"]"
   ]
  },
  {
   "cell_type": "markdown",
   "id": "a21f90ec-aeb7-413f-a8ee-4276d990be02",
   "metadata": {},
   "source": [
    "## Split into train, validation, and test sets"
   ]
  },
  {
   "cell_type": "code",
   "execution_count": 15,
   "id": "947df7e2-a0cc-43b2-9d8d-7fdb9a8c40f3",
   "metadata": {},
   "outputs": [],
   "source": [
    "X_train, X_test, y_train, y_test = train_test_split(\n",
    "    X, y, test_size=0.2, stratify=y, random_state=42\n",
    ")"
   ]
  },
  {
   "cell_type": "markdown",
   "id": "d944d99c-bb7e-489e-93b9-1dad8aa0ba89",
   "metadata": {},
   "source": [
    "## Fit Min-Max scaler on training data only"
   ]
  },
  {
   "cell_type": "code",
   "execution_count": 16,
   "id": "20b4df10-6799-497c-a10b-213cce5ba7dd",
   "metadata": {},
   "outputs": [],
   "source": [
    "scaler = MinMaxScaler()\n",
    "X_train_scaled = scaler.fit_transform(X_train)"
   ]
  },
  {
   "cell_type": "markdown",
   "id": "83577301-78fe-403f-b419-a2e04a9d7cce",
   "metadata": {},
   "source": [
    "## Apply the same scaler to transform validation and test sets"
   ]
  },
  {
   "cell_type": "code",
   "execution_count": 17,
   "id": "b3396ab2-ab5d-4170-bb8b-44698558fe34",
   "metadata": {},
   "outputs": [],
   "source": [
    "X_test_scaled = scaler.transform(X_test)"
   ]
  },
  {
   "cell_type": "markdown",
   "id": "d5fd7103-ce00-42bf-a171-0dd956c2733c",
   "metadata": {},
   "source": [
    "## Training set info"
   ]
  },
  {
   "cell_type": "code",
   "execution_count": 18,
   "id": "11918259-dcf4-4f48-ba94-3a7030b12328",
   "metadata": {},
   "outputs": [
    {
     "name": "stdout",
     "output_type": "stream",
     "text": [
      "<class 'pandas.core.frame.DataFrame'>\n",
      "RangeIndex: 614 entries, 0 to 613\n",
      "Data columns (total 8 columns):\n",
      " #   Column                                                                    Non-Null Count  Dtype  \n",
      "---  ------                                                                    --------------  -----  \n",
      " 0   Number of times pregnant                                                  614 non-null    float64\n",
      " 1   Plasma glucose concentration a 2 hours in an oral glucose tolerance test  614 non-null    float64\n",
      " 2   Diastolic blood pressure (mm Hg)                                          614 non-null    float64\n",
      " 3   Triceps skin fold thickness (mm)                                          614 non-null    float64\n",
      " 4   2-Hour serum insulin (mu U/ml)                                            614 non-null    float64\n",
      " 5   Body mass index (weight in kg/(height in m)^2)                            614 non-null    float64\n",
      " 6   Diabetes pedigree function                                                614 non-null    float64\n",
      " 7   Age (years)                                                               614 non-null    float64\n",
      "dtypes: float64(8)\n",
      "memory usage: 38.5 KB\n"
     ]
    }
   ],
   "source": [
    "pd.DataFrame(X_train_scaled, columns=X_train.columns).info()"
   ]
  },
  {
   "cell_type": "markdown",
   "id": "af96dd82-e71e-4893-8b6e-47ef9d1aac83",
   "metadata": {},
   "source": [
    "## Test set info"
   ]
  },
  {
   "cell_type": "code",
   "execution_count": 19,
   "id": "b9ecc099-e5b3-4c6b-9473-fd65c0284033",
   "metadata": {},
   "outputs": [
    {
     "name": "stdout",
     "output_type": "stream",
     "text": [
      "<class 'pandas.core.frame.DataFrame'>\n",
      "RangeIndex: 154 entries, 0 to 153\n",
      "Data columns (total 8 columns):\n",
      " #   Column                                                                    Non-Null Count  Dtype  \n",
      "---  ------                                                                    --------------  -----  \n",
      " 0   Number of times pregnant                                                  154 non-null    float64\n",
      " 1   Plasma glucose concentration a 2 hours in an oral glucose tolerance test  154 non-null    float64\n",
      " 2   Diastolic blood pressure (mm Hg)                                          154 non-null    float64\n",
      " 3   Triceps skin fold thickness (mm)                                          154 non-null    float64\n",
      " 4   2-Hour serum insulin (mu U/ml)                                            154 non-null    float64\n",
      " 5   Body mass index (weight in kg/(height in m)^2)                            154 non-null    float64\n",
      " 6   Diabetes pedigree function                                                154 non-null    float64\n",
      " 7   Age (years)                                                               154 non-null    float64\n",
      "dtypes: float64(8)\n",
      "memory usage: 9.8 KB\n"
     ]
    }
   ],
   "source": [
    "pd.DataFrame(X_test_scaled, columns=X_test.columns).info()"
   ]
  },
  {
   "cell_type": "markdown",
   "id": "0963f342-ccc2-4929-9bd4-8a47a7a77aac",
   "metadata": {},
   "source": [
    "## Create a Stratified K-Fold object for cross-validation\n",
    "- n_splits=5: training data will be split into 5 folds\n",
    "- shuffle=True: shuffle the data before splitting"
   ]
  },
  {
   "cell_type": "code",
   "execution_count": 20,
   "id": "abdb83e4-38a6-43bb-9188-49d0723d5eef",
   "metadata": {},
   "outputs": [],
   "source": [
    "skf = StratifiedKFold(n_splits=5, shuffle=True, random_state=42)"
   ]
  },
  {
   "cell_type": "markdown",
   "id": "b223ed61-c229-46de-bb53-748adb7e190f",
   "metadata": {},
   "source": [
    "## Perform 5-fold cross-validation on the training set\n",
    "- In each fold, part of the training data is used for training and the remaining part for validation\n",
    "- This helps evaluate model performance more robustly\n",
    "- X_fold_train, y_fold_train: training subset for current fold\n",
    "- X_fold_val, y_fold_val: validation subset for current fold\n",
    "- Print shapes to verify the split"
   ]
  },
  {
   "cell_type": "code",
   "execution_count": 21,
   "id": "2dd0cbc8-ffbe-4d3b-9030-21c076ca9a80",
   "metadata": {},
   "outputs": [
    {
     "name": "stdout",
     "output_type": "stream",
     "text": [
      "Fold 1:\n",
      "  Train shape: (491, 8), Validation shape: (123, 8)\n",
      "Fold 2:\n",
      "  Train shape: (491, 8), Validation shape: (123, 8)\n",
      "Fold 3:\n",
      "  Train shape: (491, 8), Validation shape: (123, 8)\n",
      "Fold 4:\n",
      "  Train shape: (491, 8), Validation shape: (123, 8)\n",
      "Fold 5:\n",
      "  Train shape: (492, 8), Validation shape: (122, 8)\n"
     ]
    }
   ],
   "source": [
    "for fold, (train_idx, val_idx) in enumerate(skf.split(X_train_scaled, y_train), 1):\n",
    "    X_fold_train, X_fold_val = X_train_scaled[train_idx], X_train_scaled[val_idx]\n",
    "    y_fold_train, y_fold_val = y_train.iloc[train_idx], y_train.iloc[val_idx]\n",
    "\n",
    "    print(f\"Fold {fold}:\")\n",
    "    print(f\"  Train shape: {X_fold_train.shape}, Validation shape: {X_fold_val.shape}\")"
   ]
  },
  {
   "cell_type": "markdown",
   "id": "b498c6ae-c6bc-490b-baa5-cdf43d48ec90",
   "metadata": {},
   "source": [
    "# 4. Model Training"
   ]
  },
  {
   "cell_type": "markdown",
   "id": "5c3616b8-bb14-4ffb-b781-4884b39d3ba3",
   "metadata": {},
   "source": [
    "## Define models to train"
   ]
  },
  {
   "cell_type": "code",
   "execution_count": 22,
   "id": "a5bcf663-8749-4dc4-bf22-e7d71004caa5",
   "metadata": {},
   "outputs": [],
   "source": [
    "models = {\n",
    "    \"SVM_linear\": SVC(kernel='linear', random_state=42),\n",
    "    \"SVM_poly\": SVC(kernel='poly', random_state=42),\n",
    "    \"SVM_rbf\": SVC(kernel='rbf', random_state=42),\n",
    "    \"SVM_sigmoid\": SVC(kernel='sigmoid', random_state=42),\n",
    "    \"Decision Tree\": DecisionTreeClassifier(random_state=42),\n",
    "    \"Random Forest\": RandomForestClassifier(random_state=42),\n",
    "    \"k-NN\": KNeighborsClassifier(n_neighbors=5),\n",
    "    \"Logistic Regression\": LogisticRegression(max_iter=1000, random_state=42),\n",
    "    \"XGBoost\": XGBClassifier(eval_metric='logloss', random_state=42, verbosity=0)\n",
    "}"
   ]
  },
  {
   "cell_type": "markdown",
   "id": "f3f4dbae-2753-4bdc-ba54-587c2209524a",
   "metadata": {},
   "source": [
    "### Parameters to be tuned for each model"
   ]
  },
  {
   "cell_type": "code",
   "execution_count": 23,
   "id": "693ba6e4-b667-4c59-9991-84e70d130334",
   "metadata": {},
   "outputs": [],
   "source": [
    "param_grids = {\n",
    "    \"SVM_linear\": {'C': [0.1, 1, 10]},\n",
    "    \"SVM_poly\": {'C': [0.1, 1, 10], 'degree': [2, 3, 4]},\n",
    "    \"SVM_rbf\": {'C': [0.1, 1, 10], 'gamma': ['scale', 0.01, 0.1]},\n",
    "    \"SVM_sigmoid\": {'C': [0.1, 1, 10], 'gamma': ['scale', 0.01, 0.1]},\n",
    "    \"Decision Tree\": {'max_depth': [3, 5, None], 'min_samples_split': [2, 5]},\n",
    "    \"Random Forest\": {'n_estimators': [100, 200], 'max_depth': [None, 5]},\n",
    "    \"k-NN\": {'n_neighbors': [3, 5, 7], 'weights': ['uniform', 'distance']},\n",
    "    \"Logistic Regression\": {'C': [0.1, 1, 10], 'penalty': ['l2']},\n",
    "    \"XGBoost\": {'n_estimators': [100, 200], 'max_depth': [3, 5], 'learning_rate': [0.01, 0.1]}\n",
    "}"
   ]
  },
  {
   "cell_type": "markdown",
   "id": "0c38db68-6b4c-4953-ba71-5b45ec28496b",
   "metadata": {},
   "source": [
    "###  Storage for best estimators and grid search objects"
   ]
  },
  {
   "cell_type": "code",
   "execution_count": 24,
   "id": "3d161daf-5d89-4bab-b274-ff15b59fb3e3",
   "metadata": {},
   "outputs": [],
   "source": [
    "best_models = {}\n",
    "grid_searches = {}\n",
    "cv_summary = {}"
   ]
  },
  {
   "cell_type": "markdown",
   "id": "b3b21f6f-f375-4da4-b2b9-62182515727d",
   "metadata": {},
   "source": [
    "### Run the model"
   ]
  },
  {
   "cell_type": "code",
   "execution_count": 25,
   "id": "23bd7610-e231-48b4-b47d-2f26e3ee6ee4",
   "metadata": {},
   "outputs": [
    {
     "name": "stdout",
     "output_type": "stream",
     "text": [
      "Tuning / fitting SVM_linear...\n",
      "  Best CV score: 0.7850, Best params: {'C': 10}\n",
      "Tuning / fitting SVM_poly...\n",
      "  Best CV score: 0.7883, Best params: {'C': 1, 'degree': 2}\n",
      "Tuning / fitting SVM_rbf...\n",
      "  Best CV score: 0.7834, Best params: {'C': 10, 'gamma': 0.1}\n",
      "Tuning / fitting SVM_sigmoid...\n",
      "  Best CV score: 0.7817, Best params: {'C': 10, 'gamma': 0.1}\n",
      "Tuning / fitting Decision Tree...\n",
      "  Best CV score: 0.7525, Best params: {'max_depth': 3, 'min_samples_split': 2}\n",
      "Tuning / fitting Random Forest...\n",
      "  Best CV score: 0.7720, Best params: {'max_depth': None, 'n_estimators': 200}\n",
      "Tuning / fitting k-NN...\n",
      "  Best CV score: 0.7574, Best params: {'n_neighbors': 7, 'weights': 'distance'}\n",
      "Tuning / fitting Logistic Regression...\n",
      "  Best CV score: 0.7834, Best params: {'C': 10, 'penalty': 'l2'}\n",
      "Tuning / fitting XGBoost...\n",
      "  Best CV score: 0.7622, Best params: {'learning_rate': 0.01, 'max_depth': 3, 'n_estimators': 200}\n"
     ]
    }
   ],
   "source": [
    "for name, model in models.items():\n",
    "    print(f\"Tuning / fitting {name}...\")\n",
    "    if name in param_grids:\n",
    "        grid = GridSearchCV(\n",
    "            estimator=model,\n",
    "            param_grid=param_grids[name],\n",
    "            scoring='accuracy',\n",
    "            cv=skf,\n",
    "            n_jobs=-1,\n",
    "            refit=True\n",
    "        )\n",
    "        grid.fit(X_train_scaled, y_train)               \n",
    "        best_models[name] = grid.best_estimator_         # best estimator refit on full train\n",
    "        grid_searches[name] = grid\n",
    "        cv_summary[name] = {\n",
    "            'best_cv_score': grid.best_score_,\n",
    "            'best_params': grid.best_params_\n",
    "        }\n",
    "        print(f\"  Best CV score: {grid.best_score_:.4f}, Best params: {grid.best_params_}\")\n",
    "    else:\n",
    "        # no hyperparameter grid: just fit on entire training data\n",
    "        model.fit(X_train_scaled, y_train)\n",
    "        best_models[name] = model\n",
    "        cv_summary[name] = {'best_cv_score': None, 'best_params': None}\n",
    "        print(\"  No hyperparameter grid: fitted default model on full training set.\")"
   ]
  },
  {
   "cell_type": "code",
   "execution_count": 26,
   "id": "e604e482-b384-4593-a02d-0e20caa01870",
   "metadata": {},
   "outputs": [
    {
     "data": {
      "text/html": [
       "<div>\n",
       "<style scoped>\n",
       "    .dataframe tbody tr th:only-of-type {\n",
       "        vertical-align: middle;\n",
       "    }\n",
       "\n",
       "    .dataframe tbody tr th {\n",
       "        vertical-align: top;\n",
       "    }\n",
       "\n",
       "    .dataframe thead th {\n",
       "        text-align: right;\n",
       "    }\n",
       "</style>\n",
       "<table border=\"1\" class=\"dataframe\">\n",
       "  <thead>\n",
       "    <tr style=\"text-align: right;\">\n",
       "      <th></th>\n",
       "      <th>Model</th>\n",
       "      <th>best_cv_score</th>\n",
       "      <th>best_params</th>\n",
       "    </tr>\n",
       "  </thead>\n",
       "  <tbody>\n",
       "    <tr>\n",
       "      <th>0</th>\n",
       "      <td>SVM_linear</td>\n",
       "      <td>0.784979</td>\n",
       "      <td>{'C': 10}</td>\n",
       "    </tr>\n",
       "    <tr>\n",
       "      <th>1</th>\n",
       "      <td>SVM_poly</td>\n",
       "      <td>0.788285</td>\n",
       "      <td>{'C': 1, 'degree': 2}</td>\n",
       "    </tr>\n",
       "    <tr>\n",
       "      <th>2</th>\n",
       "      <td>SVM_rbf</td>\n",
       "      <td>0.783367</td>\n",
       "      <td>{'C': 10, 'gamma': 0.1}</td>\n",
       "    </tr>\n",
       "    <tr>\n",
       "      <th>3</th>\n",
       "      <td>SVM_sigmoid</td>\n",
       "      <td>0.781714</td>\n",
       "      <td>{'C': 10, 'gamma': 0.1}</td>\n",
       "    </tr>\n",
       "    <tr>\n",
       "      <th>4</th>\n",
       "      <td>Decision Tree</td>\n",
       "      <td>0.752472</td>\n",
       "      <td>{'max_depth': 3, 'min_samples_split': 2}</td>\n",
       "    </tr>\n",
       "    <tr>\n",
       "      <th>5</th>\n",
       "      <td>Random Forest</td>\n",
       "      <td>0.771998</td>\n",
       "      <td>{'max_depth': None, 'n_estimators': 200}</td>\n",
       "    </tr>\n",
       "    <tr>\n",
       "      <th>6</th>\n",
       "      <td>k-NN</td>\n",
       "      <td>0.757364</td>\n",
       "      <td>{'n_neighbors': 7, 'weights': 'distance'}</td>\n",
       "    </tr>\n",
       "    <tr>\n",
       "      <th>7</th>\n",
       "      <td>Logistic Regression</td>\n",
       "      <td>0.783367</td>\n",
       "      <td>{'C': 10, 'penalty': 'l2'}</td>\n",
       "    </tr>\n",
       "    <tr>\n",
       "      <th>8</th>\n",
       "      <td>XGBoost</td>\n",
       "      <td>0.762228</td>\n",
       "      <td>{'learning_rate': 0.01, 'max_depth': 3, 'n_est...</td>\n",
       "    </tr>\n",
       "  </tbody>\n",
       "</table>\n",
       "</div>"
      ],
      "text/plain": [
       "                 Model  best_cv_score  \\\n",
       "0           SVM_linear       0.784979   \n",
       "1             SVM_poly       0.788285   \n",
       "2              SVM_rbf       0.783367   \n",
       "3          SVM_sigmoid       0.781714   \n",
       "4        Decision Tree       0.752472   \n",
       "5        Random Forest       0.771998   \n",
       "6                 k-NN       0.757364   \n",
       "7  Logistic Regression       0.783367   \n",
       "8              XGBoost       0.762228   \n",
       "\n",
       "                                         best_params  \n",
       "0                                          {'C': 10}  \n",
       "1                              {'C': 1, 'degree': 2}  \n",
       "2                            {'C': 10, 'gamma': 0.1}  \n",
       "3                            {'C': 10, 'gamma': 0.1}  \n",
       "4           {'max_depth': 3, 'min_samples_split': 2}  \n",
       "5           {'max_depth': None, 'n_estimators': 200}  \n",
       "6          {'n_neighbors': 7, 'weights': 'distance'}  \n",
       "7                         {'C': 10, 'penalty': 'l2'}  \n",
       "8  {'learning_rate': 0.01, 'max_depth': 3, 'n_est...  "
      ]
     },
     "metadata": {},
     "output_type": "display_data"
    }
   ],
   "source": [
    "cv_results_tuned_df = pd.DataFrame.from_dict(cv_summary, orient='index')\n",
    "cv_results_tuned_df = cv_results_tuned_df.reset_index().rename(columns={'index': 'Model'})\n",
    "display(cv_results_tuned_df)"
   ]
  },
  {
   "cell_type": "markdown",
   "id": "5520ce07-b50a-4341-99ce-d88ddaae4b37",
   "metadata": {},
   "source": [
    "# 5. Apply models after being tuned on the test dataset"
   ]
  },
  {
   "cell_type": "code",
   "execution_count": 27,
   "id": "68d78fce-abeb-4926-aa5a-3774192237f6",
   "metadata": {},
   "outputs": [],
   "source": [
    "test_results = []\n",
    "for name, model in best_models.items():\n",
    "    y_test_pred = model.predict(X_test_scaled)\n",
    "    test_results.append({\n",
    "        'Model': name,\n",
    "        'Accuracy': accuracy_score(y_test, y_test_pred),\n",
    "        'Precision': precision_score(y_test, y_test_pred, zero_division=0),\n",
    "        'Recall': recall_score(y_test, y_test_pred, zero_division=0),\n",
    "        'F1-Score': f1_score(y_test, y_test_pred, zero_division=0)\n",
    "    })"
   ]
  },
  {
   "cell_type": "markdown",
   "id": "0322560c-cba9-45c7-aa72-64e5dc5ad78e",
   "metadata": {},
   "source": [
    "### Comnments on final summary table\n",
    "\n",
    "- Highest accuracy: SVM_poly (accuracy = 0.753).\n",
    "- Highest precision: SVM_poly (precision = 0.700) — it makes the fewest false-positive predictions.\n",
    "- Highest recall: Random Forest (recall = 0.593) — it detects the largest share of actual diabetic cases.\n",
    "- Highest F1-score: Random Forest (F1 = 0.621) — it gives the best balance between precision and recall.\n",
    "\n",
    "- SVM_poly gives the best overall accuracy and precision (fewer false alarms), while Random Forest is better at finding diabetics (higher recall and best F1), which is usually more important in a medical screening task.\n",
    "\n",
    "- For this diabetic vs non-diabetic classification, use Random Forest as the primary model (best F1 and highest recall), and consider SVM_poly as a secondary model if you want to prioritize minimizing false positives."
   ]
  },
  {
   "cell_type": "code",
   "execution_count": 28,
   "id": "c8b171e9-c507-4237-becd-592d74958d1d",
   "metadata": {},
   "outputs": [
    {
     "data": {
      "text/html": [
       "<div>\n",
       "<style scoped>\n",
       "    .dataframe tbody tr th:only-of-type {\n",
       "        vertical-align: middle;\n",
       "    }\n",
       "\n",
       "    .dataframe tbody tr th {\n",
       "        vertical-align: top;\n",
       "    }\n",
       "\n",
       "    .dataframe thead th {\n",
       "        text-align: right;\n",
       "    }\n",
       "</style>\n",
       "<table border=\"1\" class=\"dataframe\">\n",
       "  <thead>\n",
       "    <tr style=\"text-align: right;\">\n",
       "      <th></th>\n",
       "      <th>Model</th>\n",
       "      <th>Accuracy</th>\n",
       "      <th>Precision</th>\n",
       "      <th>Recall</th>\n",
       "      <th>F1-Score</th>\n",
       "    </tr>\n",
       "  </thead>\n",
       "  <tbody>\n",
       "    <tr>\n",
       "      <th>0</th>\n",
       "      <td>SVM_poly</td>\n",
       "      <td>0.753247</td>\n",
       "      <td>0.700000</td>\n",
       "      <td>0.518519</td>\n",
       "      <td>0.595745</td>\n",
       "    </tr>\n",
       "    <tr>\n",
       "      <th>1</th>\n",
       "      <td>Random Forest</td>\n",
       "      <td>0.746753</td>\n",
       "      <td>0.653061</td>\n",
       "      <td>0.592593</td>\n",
       "      <td>0.621359</td>\n",
       "    </tr>\n",
       "    <tr>\n",
       "      <th>2</th>\n",
       "      <td>XGBoost</td>\n",
       "      <td>0.746753</td>\n",
       "      <td>0.666667</td>\n",
       "      <td>0.555556</td>\n",
       "      <td>0.606061</td>\n",
       "    </tr>\n",
       "    <tr>\n",
       "      <th>3</th>\n",
       "      <td>SVM_rbf</td>\n",
       "      <td>0.740260</td>\n",
       "      <td>0.675000</td>\n",
       "      <td>0.500000</td>\n",
       "      <td>0.574468</td>\n",
       "    </tr>\n",
       "    <tr>\n",
       "      <th>4</th>\n",
       "      <td>SVM_sigmoid</td>\n",
       "      <td>0.733766</td>\n",
       "      <td>0.675676</td>\n",
       "      <td>0.462963</td>\n",
       "      <td>0.549451</td>\n",
       "    </tr>\n",
       "    <tr>\n",
       "      <th>5</th>\n",
       "      <td>SVM_linear</td>\n",
       "      <td>0.707792</td>\n",
       "      <td>0.600000</td>\n",
       "      <td>0.500000</td>\n",
       "      <td>0.545455</td>\n",
       "    </tr>\n",
       "    <tr>\n",
       "      <th>6</th>\n",
       "      <td>Logistic Regression</td>\n",
       "      <td>0.707792</td>\n",
       "      <td>0.600000</td>\n",
       "      <td>0.500000</td>\n",
       "      <td>0.545455</td>\n",
       "    </tr>\n",
       "    <tr>\n",
       "      <th>7</th>\n",
       "      <td>Decision Tree</td>\n",
       "      <td>0.694805</td>\n",
       "      <td>0.666667</td>\n",
       "      <td>0.259259</td>\n",
       "      <td>0.373333</td>\n",
       "    </tr>\n",
       "    <tr>\n",
       "      <th>8</th>\n",
       "      <td>k-NN</td>\n",
       "      <td>0.694805</td>\n",
       "      <td>0.568627</td>\n",
       "      <td>0.537037</td>\n",
       "      <td>0.552381</td>\n",
       "    </tr>\n",
       "  </tbody>\n",
       "</table>\n",
       "</div>"
      ],
      "text/plain": [
       "                 Model  Accuracy  Precision    Recall  F1-Score\n",
       "0             SVM_poly  0.753247   0.700000  0.518519  0.595745\n",
       "1        Random Forest  0.746753   0.653061  0.592593  0.621359\n",
       "2              XGBoost  0.746753   0.666667  0.555556  0.606061\n",
       "3              SVM_rbf  0.740260   0.675000  0.500000  0.574468\n",
       "4          SVM_sigmoid  0.733766   0.675676  0.462963  0.549451\n",
       "5           SVM_linear  0.707792   0.600000  0.500000  0.545455\n",
       "6  Logistic Regression  0.707792   0.600000  0.500000  0.545455\n",
       "7        Decision Tree  0.694805   0.666667  0.259259  0.373333\n",
       "8                 k-NN  0.694805   0.568627  0.537037  0.552381"
      ]
     },
     "metadata": {},
     "output_type": "display_data"
    }
   ],
   "source": [
    "test_results_df = pd.DataFrame(test_results).sort_values(by='Accuracy', ascending=False).reset_index(drop=True)\n",
    "display(test_results_df)"
   ]
  }
 ],
 "metadata": {
  "kernelspec": {
   "display_name": "Python 3 (ipykernel)",
   "language": "python",
   "name": "python3"
  },
  "language_info": {
   "codemirror_mode": {
    "name": "ipython",
    "version": 3
   },
   "file_extension": ".py",
   "mimetype": "text/x-python",
   "name": "python",
   "nbconvert_exporter": "python",
   "pygments_lexer": "ipython3",
   "version": "3.12.5"
  }
 },
 "nbformat": 4,
 "nbformat_minor": 5
}
